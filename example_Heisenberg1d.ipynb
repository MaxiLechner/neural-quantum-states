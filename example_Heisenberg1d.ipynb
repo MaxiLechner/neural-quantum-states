{
 "cells": [
  {
   "cell_type": "code",
   "execution_count": 1,
   "metadata": {},
   "outputs": [],
   "source": [
    "%matplotlib inline"
   ]
  },
  {
   "cell_type": "code",
   "execution_count": 14,
   "metadata": {},
   "outputs": [],
   "source": [
    "from __future__ import absolute_import\n",
    "from __future__ import division\n",
    "from __future__ import print_function\n",
    "\n",
    "from hamiltonian import initialize_heisenberg_1d\n",
    "\n",
    "import jax.numpy as np\n",
    "\n",
    "from time import time\n",
    "from pathlib import Path\n",
    "import warnings\n",
    "import matplotlib.pyplot as plt\n",
    "from IPython.display import display, clear_output\n",
    "\n",
    "\n",
    "Complex_warning = True\n",
    "pbc = True\n",
    "J = 1\n",
    "lr = 1e-02\n",
    "print_every =  10\n",
    "batch_size = 100\n",
    "num_spins = 10\n",
    "epochs = 200\n",
    "seed = 0\n",
    "width = 12\n",
    "filter_size = 3\n",
    "\n",
    "if Complex_warning:\n",
    "    warnings.filterwarnings(\n",
    "            \"ignore\",\n",
    "            message=\"Casting complex values to real discards the imaginary part\",\n",
    "        )\n",
    "\n",
    "# def callback(params, i, ax, fig):\n",
    "#     E, mag, var, epochs, epoch_mod, gs_energy = params\n",
    "#     if i > 0 and i % epoch_mod == 0 or i == epochs - 1:\n",
    "#         ax.cla()\n",
    "#         ax.axhline(gs_energy, label=\"Exact Energy\", color=\"r\")\n",
    "#         ax.plot(E, label=\"Energy\")\n",
    "#         ax.plot(mag, label=\"Magnetization\")\n",
    "#         ax.plot(var, label=\"Variance\")\n",
    "#         ax.legend()\n",
    "# #         plt.draw()\n",
    "#         display(fig)\n",
    "#         clear_output(wait = True)\n",
    "#         plt.pause(1.0 / 60.0)"
   ]
  },
  {
   "cell_type": "code",
   "execution_count": 17,
   "metadata": {},
   "outputs": [
    {
     "name": "stdout",
     "output_type": "stream",
     "text": [
      "exact energy:  -4.431472\n",
      "Step\tEnergy\tMagnetization\tVariance\ttime/step\n",
      "---------------------------------------------------------\n",
      "10\t-1.83\t-0.70\t1.624\t120.37\n",
      "20\t-2.49\t0.02\t0.010\t1.27\n",
      "30\t-2.49\t-0.02\t0.010\t1.12\n",
      "40\t-2.50\t0.00\t0.000\t1.11\n",
      "50\t-2.50\t0.00\t0.000\t1.12\n",
      "60\t-2.49\t0.02\t0.010\t1.13\n",
      "70\t-2.50\t0.00\t0.000\t1.37\n",
      "80\t-2.50\t0.00\t0.000\t1.76\n",
      "90\t-2.50\t0.00\t0.000\t1.15\n",
      "100\t-2.50\t0.00\t0.000\t1.75\n",
      "110\t-2.50\t0.00\t0.000\t1.78\n",
      "120\t-2.50\t0.00\t0.000\t1.45\n",
      "130\t-2.50\t0.00\t0.000\t1.32\n",
      "140\t-2.50\t0.00\t0.000\t1.18\n",
      "150\t-2.50\t0.00\t0.000\t1.13\n",
      "160\t-2.50\t0.00\t0.000\t1.17\n",
      "170\t-2.50\t0.00\t0.000\t1.13\n",
      "180\t-2.50\t0.00\t0.000\t1.14\n",
      "190\t-2.50\t0.00\t0.000\t1.15\n"
     ]
    }
   ],
   "source": [
    "step, opt_state, key = initialize_heisenberg_1d(\n",
    "        width,\n",
    "        filter_size,\n",
    "        seed,\n",
    "        num_spins,\n",
    "        lr,\n",
    "        J,\n",
    "        batch_size,\n",
    "        pbc,\n",
    "    )\n",
    "\n",
    "if pbc:\n",
    "    if J == 1:\n",
    "        gs_energy = num_spins * (1 / 4 - np.log(2))\n",
    "    elif J < 0:\n",
    "        gs_energy = J * num_spins / 4\n",
    "    else:\n",
    "        gs_energy = np.nan\n",
    "\n",
    "E = []\n",
    "E_imag = []\n",
    "mag = []\n",
    "E_var = []\n",
    "epoch = []\n",
    "Time = []\n",
    "print(\"exact energy: \", gs_energy)\n",
    "\n",
    "start = time()\n",
    "old_time = time()\n",
    "\n",
    "print(\"Step\\tEnergy\\tMagnetization\\tVariance\\ttime/step\")\n",
    "print(\"---------------------------------------------------------\")\n",
    "\n",
    "for i in range(epochs):\n",
    "    opt_state, key, energy, e_imag, magnetization, var = step(i, opt_state, key)\n",
    "    E.append(energy)\n",
    "    E_imag.append(e_imag)\n",
    "    mag.append(magnetization)\n",
    "    E_var.append(var.real)\n",
    "    epoch.append(i)\n",
    "    now = time()\n",
    "    Time.append(now - start)\n",
    "    if i % print_every == 0 and i > 0:\n",
    "        new_time = time()\n",
    "        print(\n",
    "            \"{}\\t{:.2f}\\t{:.2f}\\t{:.3f}\\t{:.2f}\".format(\n",
    "                i, energy, magnetization, var.real, new_time - old_time\n",
    "            )\n",
    "        )\n",
    "        old_time = new_time"
   ]
  },
  {
   "cell_type": "code",
   "execution_count": 18,
   "metadata": {},
   "outputs": [
    {
     "data": {
      "image/png": "[encoded data removed]",
      "text/plain": [
       "<Figure size 432x288 with 1 Axes>"
      ]
     },
     "metadata": {
      "needs_background": "light"
     },
     "output_type": "display_data"
    }
   ],
   "source": [
    "plt.plot(E, label='energy')\n",
    "plt.axhline(gs_energy, label='exact energy',linestyle=':', color=\"r\")\n",
    "plt.plot(mag, label='magnetization')\n",
    "plt.plot(E_var, label='energy variance')\n",
    "plt.legend()\n",
    "plt.show()"
   ]
  },
  {
   "cell_type": "code",
   "execution_count": null,
   "metadata": {},
   "outputs": [],
   "source": []
  }
 ],
 "metadata": {
  "kernelspec": {
   "display_name": "Python 3",
   "language": "python",
   "name": "python3"
  },
  "language_info": {
   "codemirror_mode": {
    "name": "ipython",
    "version": 3
   },
   "file_extension": ".py",
   "mimetype": "text/x-python",
   "name": "python",
   "nbconvert_exporter": "python",
   "pygments_lexer": "ipython3",
   "version": "3.7.6"
  }
 },
 "nbformat": 4,
 "nbformat_minor": 2
}
