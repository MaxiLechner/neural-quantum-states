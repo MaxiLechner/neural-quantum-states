{
 "cells": [
  {
   "cell_type": "code",
   "execution_count": 11,
   "metadata": {},
   "outputs": [],
   "source": [
    "%matplotlib inline"
   ]
  },
  {
   "cell_type": "code",
   "execution_count": 22,
   "metadata": {},
   "outputs": [],
   "source": [
    "from __future__ import absolute_import\n",
    "from __future__ import division\n",
    "from __future__ import print_function\n",
    "\n",
    "from hamiltonian import initialize_ising_1d\n",
    "\n",
    "import jax.numpy as np\n",
    "\n",
    "from time import time\n",
    "from pathlib import Path\n",
    "import warnings\n",
    "import matplotlib.pyplot as plt\n",
    "from IPython.display import display, clear_output\n",
    "\n",
    "\n",
    "Complex_warning = True\n",
    "pbc = False\n",
    "lr = 1e-02\n",
    "print_every =  10\n",
    "batch_size = 100\n",
    "num_spins = 10\n",
    "epochs = 500\n",
    "seed = 0\n",
    "width = 24\n",
    "filter_size = 3\n",
    "\n",
    "if Complex_warning:\n",
    "    warnings.filterwarnings(\n",
    "            \"ignore\",\n",
    "            message=\"Casting complex values to real discards the imaginary part\",\n",
    "        )\n",
    "\n",
    "step, opt_state, key = initialize_ising_1d(\n",
    "        width,\n",
    "        filter_size,\n",
    "        seed,\n",
    "        num_spins,\n",
    "        lr,\n",
    "        batch_size,\n",
    "        pbc,\n",
    "    )\n",
    "        \n",
    "if pbc is False:\n",
    "    gs_energy = 1 - 1 / (np.sin(np.pi / (2 * (2 * num_spins + 1))))\n",
    "else:\n",
    "    gs_energy = np.nan"
   ]
  },
  {
   "cell_type": "code",
   "execution_count": 23,
   "metadata": {},
   "outputs": [
    {
     "name": "stdout",
     "output_type": "stream",
     "text": [
      "Step\tEnergy\tMagnetization\tVariance\ttime/step\n",
      "---------------------------------------------------------\n",
      "10\t-9.13\t9.54\t8.657\t114.63\n",
      "20\t-9.28\t9.86\t0.434\t1.79\n",
      "30\t-9.46\t9.78\t0.259\t1.67\n",
      "40\t-9.39\t9.88\t0.078\t1.65\n",
      "50\t-9.67\t9.76\t1.281\t1.68\n",
      "60\t-10.57\t9.00\t4.769\t1.93\n",
      "70\t-10.52\t9.26\t3.072\t1.66\n",
      "80\t-10.91\t9.46\t2.508\t1.66\n",
      "90\t-11.07\t9.00\t1.699\t1.96\n",
      "100\t-11.33\t8.98\t1.642\t1.84\n",
      "110\t-11.32\t8.90\t2.283\t1.69\n",
      "120\t-11.39\t8.84\t3.171\t1.64\n",
      "130\t-11.42\t9.12\t1.197\t1.65\n",
      "140\t-11.43\t8.74\t1.715\t1.65\n",
      "150\t-11.42\t8.48\t1.685\t1.68\n",
      "160\t-11.51\t7.66\t2.100\t1.68\n",
      "170\t-11.64\t7.80\t1.969\t1.63\n",
      "180\t-11.86\t7.90\t1.141\t1.69\n",
      "190\t-11.71\t8.20\t1.217\t1.83\n",
      "200\t-11.73\t8.14\t0.855\t1.92\n",
      "210\t-11.73\t8.64\t1.558\t1.86\n",
      "220\t-12.02\t6.54\t0.913\t1.70\n",
      "230\t-12.07\t5.26\t0.432\t1.67\n",
      "240\t-12.34\t2.92\t0.492\t1.66\n",
      "250\t-12.26\t3.34\t0.387\t1.69\n",
      "260\t-12.29\t1.14\t0.337\t1.66\n",
      "270\t-12.26\t3.54\t0.226\t1.65\n",
      "280\t-12.37\t0.46\t0.264\t2.23\n",
      "290\t-12.21\t0.68\t0.181\t2.25\n",
      "300\t-12.36\t0.88\t0.130\t2.04\n",
      "310\t-12.35\t0.92\t0.112\t2.44\n",
      "320\t-12.34\t0.82\t0.232\t1.69\n",
      "330\t-12.36\t0.74\t0.091\t1.71\n",
      "340\t-12.35\t-0.26\t0.085\t1.67\n",
      "350\t-12.32\t-1.24\t0.171\t1.86\n",
      "360\t-12.34\t0.44\t0.252\t1.86\n",
      "370\t-12.35\t1.52\t0.223\t1.85\n",
      "380\t-12.32\t0.02\t0.129\t1.72\n",
      "390\t-12.31\t0.20\t0.105\t1.68\n",
      "400\t-12.33\t0.64\t0.112\t1.99\n",
      "410\t-12.35\t0.24\t0.071\t1.73\n",
      "420\t-12.40\t-0.28\t0.059\t2.23\n",
      "430\t-12.37\t0.44\t0.096\t1.90\n",
      "440\t-12.36\t0.72\t0.100\t1.71\n",
      "450\t-12.36\t0.64\t0.065\t1.85\n",
      "460\t-12.38\t0.64\t0.072\t1.75\n",
      "470\t-12.34\t-0.74\t0.088\t1.66\n",
      "480\t-12.35\t-0.20\t0.080\t1.66\n",
      "490\t-12.34\t0.22\t0.082\t1.83\n"
     ]
    }
   ],
   "source": [
    "E = []\n",
    "E_imag = []\n",
    "mag = []\n",
    "E_var = []\n",
    "epoch = []\n",
    "Time = []\n",
    "\n",
    "start = time()\n",
    "old_time = time()\n",
    "\n",
    "print(\"Step\\tEnergy\\tMagnetization\\tVariance\\ttime/step\")\n",
    "print(\"---------------------------------------------------------\")\n",
    "\n",
    "for i in range(epochs):\n",
    "    opt_state, key, energy, e_imag, magnetization, var = step(i, opt_state, key)\n",
    "    E.append(energy)\n",
    "    E_imag.append(e_imag)\n",
    "    mag.append(magnetization)\n",
    "    E_var.append(var.real)\n",
    "    epoch.append(i)\n",
    "    now = time()\n",
    "    Time.append(now - start)\n",
    "    if i % print_every == 0 and i > 0:\n",
    "        new_time = time()\n",
    "        print(\n",
    "            \"{}\\t{:.2f}\\t{:.2f}\\t{:.3f}\\t{:.2f}\".format(\n",
    "                i, energy, magnetization, var.real, new_time - old_time\n",
    "            )\n",
    "        )\n",
    "        old_time = new_time"
   ]
  },
  {
   "cell_type": "code",
   "execution_count": 24,
   "metadata": {},
   "outputs": [
    {
     "data": {
      "image/png": "[encoded data removed]",
      "text/plain": [
       "<Figure size 432x288 with 1 Axes>"
      ]
     },
     "metadata": {
      "needs_background": "light"
     },
     "output_type": "display_data"
    }
   ],
   "source": [
    "plt.plot(E, label='energy')\n",
    "plt.axhline(gs_energy, label='exact energy',linestyle=':', color=\"r\")\n",
    "plt.plot(mag, label='magnetization')\n",
    "plt.plot(E_var, label='energy variance')\n",
    "plt.legend()\n",
    "plt.show()"
   ]
  },
  {
   "cell_type": "code",
   "execution_count": null,
   "metadata": {},
   "outputs": [],
   "source": []
  }
 ],
 "metadata": {
  "kernelspec": {
   "display_name": "Python 3",
   "language": "python",
   "name": "python3"
  },
  "language_info": {
   "codemirror_mode": {
    "name": "ipython",
    "version": 3
   },
   "file_extension": ".py",
   "mimetype": "text/x-python",
   "name": "python",
   "nbconvert_exporter": "python",
   "pygments_lexer": "ipython3",
   "version": "3.7.6"
  }
 },
 "nbformat": 4,
 "nbformat_minor": 2
}
